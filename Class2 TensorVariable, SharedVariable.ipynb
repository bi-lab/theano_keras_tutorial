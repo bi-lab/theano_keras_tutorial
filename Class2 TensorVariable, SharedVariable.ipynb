{
 "cells": [
  {
   "cell_type": "code",
   "execution_count": 11,
   "metadata": {
    "collapsed": false
   },
   "outputs": [],
   "source": [
    "import theano\n",
    "import theano.tensor as T\n",
    "import numpy as np\n",
    "def floatX(x):\n",
    "    return np.asarray(x, dtype='float32')"
   ]
  },
  {
   "cell_type": "markdown",
   "metadata": {},
   "source": [
    "## TensorVariable\n",
    "TensorVariable is symbolic expression that **does not contain any value**."
   ]
  },
  {
   "cell_type": "code",
   "execution_count": 18,
   "metadata": {
    "collapsed": false
   },
   "outputs": [
    {
     "name": "stdout",
     "output_type": "stream",
     "text": [
      "<class 'theano.tensor.var.TensorVariable'>\n",
      "x\n"
     ]
    },
    {
     "ename": "AttributeError",
     "evalue": "'TensorVariable' object has no attribute 'get_value'",
     "output_type": "error",
     "traceback": [
      "\u001b[1;31m---------------------------------------------------------------------------\u001b[0m",
      "\u001b[1;31mAttributeError\u001b[0m                            Traceback (most recent call last)",
      "\u001b[1;32m<ipython-input-18-f7f37201a6dd>\u001b[0m in \u001b[0;36m<module>\u001b[1;34m()\u001b[0m\n\u001b[0;32m      2\u001b[0m \u001b[1;32mprint\u001b[0m \u001b[0mtype\u001b[0m\u001b[1;33m(\u001b[0m\u001b[0mx\u001b[0m\u001b[1;33m)\u001b[0m\u001b[1;33m\u001b[0m\u001b[0m\n\u001b[0;32m      3\u001b[0m \u001b[1;32mprint\u001b[0m \u001b[0mx\u001b[0m\u001b[1;33m\u001b[0m\u001b[0m\n\u001b[1;32m----> 4\u001b[1;33m \u001b[1;32mprint\u001b[0m \u001b[0mx\u001b[0m\u001b[1;33m.\u001b[0m\u001b[0mget_value\u001b[0m\u001b[1;33m(\u001b[0m\u001b[1;33m)\u001b[0m\u001b[1;33m\u001b[0m\u001b[0m\n\u001b[0m",
      "\u001b[1;31mAttributeError\u001b[0m: 'TensorVariable' object has no attribute 'get_value'"
     ]
    }
   ],
   "source": [
    "x = T.matrix('x')\n",
    "print type(x)\n",
    "print x\n",
    "print x.get_value() # Error"
   ]
  },
  {
   "cell_type": "markdown",
   "metadata": {},
   "source": [
    "## SharedVariable\n",
    "SharedVariable is a symbol but contains a value. When you define it, the values will be loaded to the GPU"
   ]
  },
  {
   "cell_type": "code",
   "execution_count": 20,
   "metadata": {
    "collapsed": false
   },
   "outputs": [
    {
     "name": "stdout",
     "output_type": "stream",
     "text": [
      "<class 'theano.sandbox.cuda.var.CudaNdarraySharedVariable'>\n",
      "<CudaNdarrayType(float32, matrix)>\n",
      "[[ 1.  2.]\n",
      " [ 3.  4.]\n",
      " [ 5.  6.]]\n"
     ]
    }
   ],
   "source": [
    "w_val = floatX(np.array([[1,2],[3,4],[5,6]]))\n",
    "w = theano.shared(w_val, name='w')\n",
    "print type(w)\n",
    "print w\n",
    "print w.get_value()"
   ]
  },
  {
   "cell_type": "markdown",
   "metadata": {},
   "source": [
    "#### Expressions consisting of TensorVariables and Shared Variables"
   ]
  },
  {
   "cell_type": "code",
   "execution_count": 21,
   "metadata": {
    "collapsed": false
   },
   "outputs": [
    {
     "name": "stdout",
     "output_type": "stream",
     "text": [
      "<class 'theano.tensor.var.TensorVariable'>\n",
      "<class 'theano.tensor.var.TensorVariable'>\n",
      "<class 'theano.tensor.var.TensorVariable'>\n",
      "<class 'theano.tensor.var.TensorVariable'>\n"
     ]
    }
   ],
   "source": [
    "# TensorVariable (op) Constant => TensorVariable\n",
    "y = x+1\n",
    "print type(y)\n",
    "\n",
    "# SharedVariable (op) Constant => TensorVariable\n",
    "z = w*2+np.array(floatX([[1,0],[1,0],[1,0]]))\n",
    "print type(z)\n",
    "\n",
    "# TensorVariable (op) SharedVariable => TensorVariable\n",
    "u = x*w\n",
    "print type(u)\n",
    "\n",
    "# Shape of TensorVariable => TensorVariable\n",
    "print type(x.shape)"
   ]
  },
  {
   "cell_type": "markdown",
   "metadata": {},
   "source": [
    "## Take Home Lesson\n",
    "* **TensorVariable** is a notion for **Expression** (2x+3, etc.)\n",
    "* Value of **SharedVariable** is loaded on GPU\n",
    "* If the value is **constant**, you do not need to define it as a SharedVariable\n",
    "---"
   ]
  },
  {
   "cell_type": "markdown",
   "metadata": {},
   "source": [
    "## Type of TensorVariable\n",
    "* We have to specify the **rank of tensor** (scalar, vector, ... )\n",
    "* We do **not** specify the **dimensions**  (this is why the shape of TensorVariable is also a TensorVariable)"
   ]
  },
  {
   "cell_type": "code",
   "execution_count": 22,
   "metadata": {
    "collapsed": true
   },
   "outputs": [],
   "source": [
    "s = T.scalar('s')\n",
    "v = T.vector('v')\n",
    "m = T.matrix('m')\n",
    "t3 = T.tensor3('t3')\n",
    "t4 = T.tensor4('t4')"
   ]
  },
  {
   "cell_type": "markdown",
   "metadata": {},
   "source": [
    "You can do operation with any shape"
   ]
  },
  {
   "cell_type": "code",
   "execution_count": 27,
   "metadata": {
    "collapsed": false
   },
   "outputs": [
    {
     "name": "stdout",
     "output_type": "stream",
     "text": [
      "Elemwise{add,no_inplace}.0\n",
      "Elemwise{add,no_inplace}.0\n",
      "Elemwise{add,no_inplace}.0\n"
     ]
    }
   ],
   "source": [
    "print v+floatX(np.zeros((3,5)))\n",
    "print v+floatX(np.zeros((5,3)))\n",
    "# Below is actually not a valid expression. But Theano cannot check it until a value is fed.\n",
    "print v + floatX(np.zeros((3,5))) + floatX(np.zeros((5,3)))"
   ]
  },
  {
   "cell_type": "code",
   "execution_count": null,
   "metadata": {
    "collapsed": true
   },
   "outputs": [],
   "source": []
  }
 ],
 "metadata": {
  "kernelspec": {
   "display_name": "Python 2",
   "language": "python",
   "name": "python2"
  },
  "language_info": {
   "codemirror_mode": {
    "name": "ipython",
    "version": 2
   },
   "file_extension": ".py",
   "mimetype": "text/x-python",
   "name": "python",
   "nbconvert_exporter": "python",
   "pygments_lexer": "ipython2",
   "version": "2.7.6"
  }
 },
 "nbformat": 4,
 "nbformat_minor": 0
}
