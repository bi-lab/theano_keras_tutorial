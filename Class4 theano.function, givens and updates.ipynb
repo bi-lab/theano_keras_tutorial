{
 "cells": [
  {
   "cell_type": "code",
   "execution_count": 1,
   "metadata": {
    "collapsed": false
   },
   "outputs": [
    {
     "name": "stderr",
     "output_type": "stream",
     "text": [
      "Using gpu device 0: GeForce GTX TITAN X (CNMeM is disabled, cuDNN 5103)\n"
     ]
    }
   ],
   "source": [
    "import theano\n",
    "import theano.tensor as T"
   ]
  },
  {
   "cell_type": "markdown",
   "metadata": {},
   "source": [
    "## Recall:\n",
    "* SharedVariable resides on GPU\n",
    "* data transfer between GPU <-> CPU takes much time"
   ]
  },
  {
   "cell_type": "code",
   "execution_count": 2,
   "metadata": {
    "collapsed": true
   },
   "outputs": [],
   "source": [
    "import numpy as np\n",
    "def floatX(x):\n",
    "    return np.asarray(x, dtype='float32')\n",
    "\n",
    "w_val = floatX(np.ones((256,256)))\n",
    "w = theano.shared(w_val, name='w')"
   ]
  },
  {
   "cell_type": "markdown",
   "metadata": {},
   "source": [
    "---\n",
    "## Observe that usually the data goes from CPU -> GPU"
   ]
  },
  {
   "cell_type": "code",
   "execution_count": 11,
   "metadata": {
    "collapsed": false
   },
   "outputs": [
    {
     "name": "stdout",
     "output_type": "stream",
     "text": [
      "[[ 7.  7.  7. ...,  7.  7.  7.]\n",
      " [ 7.  7.  7. ...,  7.  7.  7.]\n",
      " [ 7.  7.  7. ...,  7.  7.  7.]\n",
      " ..., \n",
      " [ 7.  7.  7. ...,  7.  7.  7.]\n",
      " [ 7.  7.  7. ...,  7.  7.  7.]\n",
      " [ 7.  7.  7. ...,  7.  7.  7.]]\n"
     ]
    }
   ],
   "source": [
    "u = T.matrix('u')\n",
    "y = 3*u + 4\n",
    "compute_y = theano.function([u], y)\n",
    "print compute_y(w_val)"
   ]
  },
  {
   "cell_type": "markdown",
   "metadata": {},
   "source": [
    "#### Can we pre-load the data on the GPU and feed it as an input whenever we want?\n",
    "---\n",
    "## `givens` option of `theano.function`"
   ]
  },
  {
   "cell_type": "code",
   "execution_count": 12,
   "metadata": {
    "collapsed": false
   },
   "outputs": [
    {
     "name": "stdout",
     "output_type": "stream",
     "text": [
      "[[ 19.  19.  19. ...,  19.  19.  19.]\n",
      " [ 19.  19.  19. ...,  19.  19.  19.]\n",
      " [ 19.  19.  19. ...,  19.  19.  19.]\n",
      " ..., \n",
      " [ 19.  19.  19. ...,  19.  19.  19.]\n",
      " [ 19.  19.  19. ...,  19.  19.  19.]\n",
      " [ 19.  19.  19. ...,  19.  19.  19.]]\n"
     ]
    }
   ],
   "source": [
    "compute_y2 = theano.function([], y, givens={u: w})\n",
    "print compute_y2()"
   ]
  },
  {
   "cell_type": "markdown",
   "metadata": {},
   "source": [
    "---\n",
    "## How can we update the SharedVariable?\n",
    "#### Naive approach"
   ]
  },
  {
   "cell_type": "code",
   "execution_count": 6,
   "metadata": {
    "collapsed": false
   },
   "outputs": [
    {
     "name": "stdout",
     "output_type": "stream",
     "text": [
      "initially: \n",
      "[[ 3.  3.  3. ...,  3.  3.  3.]\n",
      " [ 3.  3.  3. ...,  3.  3.  3.]\n",
      " [ 3.  3.  3. ...,  3.  3.  3.]\n",
      " ..., \n",
      " [ 3.  3.  3. ...,  3.  3.  3.]\n",
      " [ 3.  3.  3. ...,  3.  3.  3.]\n",
      " [ 3.  3.  3. ...,  3.  3.  3.]]\n",
      "now: \n",
      "[[ 4.  4.  4. ...,  4.  4.  4.]\n",
      " [ 4.  4.  4. ...,  4.  4.  4.]\n",
      " [ 4.  4.  4. ...,  4.  4.  4.]\n",
      " ..., \n",
      " [ 4.  4.  4. ...,  4.  4.  4.]\n",
      " [ 4.  4.  4. ...,  4.  4.  4.]\n",
      " [ 4.  4.  4. ...,  4.  4.  4.]]\n"
     ]
    }
   ],
   "source": [
    "print \"initially: \\n\", w.get_value()\n",
    "w.set_value( w.get_value() + 1 )\n",
    "print \"now: \\n\", w.get_value()"
   ]
  },
  {
   "cell_type": "markdown",
   "metadata": {},
   "source": [
    "#### However, note that\n",
    "\n",
    "* `get_value`: **GPU -> CPU**\n",
    "* `set_value`: **CPU -> GPU**\n",
    "\n",
    "So `w.set_value( w.get_value() + 1 )` is not a efficient way.\n",
    "\n",
    "#### Can we update the value without getting it to the CPU?\n",
    "---\n",
    "## `update` option of `theano.function`"
   ]
  },
  {
   "cell_type": "code",
   "execution_count": 8,
   "metadata": {
    "collapsed": false
   },
   "outputs": [
    {
     "name": "stdout",
     "output_type": "stream",
     "text": [
      "initially: \n",
      "[[ 4.  4.  4. ...,  4.  4.  4.]\n",
      " [ 4.  4.  4. ...,  4.  4.  4.]\n",
      " [ 4.  4.  4. ...,  4.  4.  4.]\n",
      " ..., \n",
      " [ 4.  4.  4. ...,  4.  4.  4.]\n",
      " [ 4.  4.  4. ...,  4.  4.  4.]\n",
      " [ 4.  4.  4. ...,  4.  4.  4.]]\n",
      "now: \n",
      "[[ 5.  5.  5. ...,  5.  5.  5.]\n",
      " [ 5.  5.  5. ...,  5.  5.  5.]\n",
      " [ 5.  5.  5. ...,  5.  5.  5.]\n",
      " ..., \n",
      " [ 5.  5.  5. ...,  5.  5.  5.]\n",
      " [ 5.  5.  5. ...,  5.  5.  5.]\n",
      " [ 5.  5.  5. ...,  5.  5.  5.]]\n"
     ]
    }
   ],
   "source": [
    "update_w = theano.function([], [], updates={w: w+1})\n",
    "\n",
    "print \"initially: \\n\", w.get_value()\n",
    "update_w()\n",
    "print \"now: \\n\", w.get_value()"
   ]
  },
  {
   "cell_type": "code",
   "execution_count": null,
   "metadata": {
    "collapsed": true
   },
   "outputs": [],
   "source": []
  }
 ],
 "metadata": {
  "kernelspec": {
   "display_name": "Python 2",
   "language": "python",
   "name": "python2"
  },
  "language_info": {
   "codemirror_mode": {
    "name": "ipython",
    "version": 2
   },
   "file_extension": ".py",
   "mimetype": "text/x-python",
   "name": "python",
   "nbconvert_exporter": "python",
   "pygments_lexer": "ipython2",
   "version": "2.7.6"
  }
 },
 "nbformat": 4,
 "nbformat_minor": 0
}
