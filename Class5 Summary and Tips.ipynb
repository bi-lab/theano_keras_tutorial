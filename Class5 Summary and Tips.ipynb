<!DOCTYPE HTML>
<html>

<head>
    <meta charset="utf-8">

    <title>IPython Notebook</title>
    <link rel="shortcut icon" type="image/x-icon" href="/static/base/images/favicon.ico?v=30780f272ab4aac64aa073a841546240">
    <meta http-equiv="X-UA-Compatible" content="IE=edge" />
    <link rel="stylesheet" href="/static/components/jquery-ui/themes/smoothness/jquery-ui.min.css?v=60f0405edd95e7135ec6a0bbc36d1385" type="text/css" />
    <meta name="viewport" content="width=device-width, initial-scale=1.0">
    
    

    <link rel="stylesheet" href="/static/style/style.min.css?v=3938f8554ee5d9c06ee2fb644a20bec4" type="text/css"/>
    
<link rel="stylesheet" href="/static/auth/css/override.css?v=795650e17afc9ef2f7cd6b630a0d5f80" type="text/css" />

    <link rel="stylesheet" href="/static/custom/custom.css?v=900035aa0c126bb85df55c5b3e51b6f1" type="text/css" />
    <script src="/static/components/es6-promise/promise.min.js?v=f004a16cb856e0ff11781d01ec5ca8fe" type="text/javascript" charset="utf-8"></script>
    <script src="/static/components/requirejs/require.js?v=640929dac3c23a448d2eebc37bc32062" type="text/javascript" charset="utf-8"></script>
    <script>
      require.config({
          
          urlArgs: "v=20161205084329",
          
          baseUrl: '/static/',
          paths: {
            nbextensions : '/nbextensions',
            kernelspecs : '/kernelspecs',
            underscore : 'components/underscore/underscore-min',
            backbone : 'components/backbone/backbone-min',
            jquery: 'components/jquery/jquery.min',
            bootstrap: 'components/bootstrap/js/bootstrap.min',
            bootstraptour: 'components/bootstrap-tour/build/js/bootstrap-tour.min',
            jqueryui: 'components/jquery-ui/ui/minified/jquery-ui.min',
            moment: 'components/moment/moment',
            codemirror: 'components/codemirror',
            termjs: 'components/term.js/src/term',
          },
          shim: {
            underscore: {
              exports: '_'
            },
            backbone: {
              deps: ["underscore", "jquery"],
              exports: "Backbone"
            },
            bootstrap: {
              deps: ["jquery"],
              exports: "bootstrap"
            },
            bootstraptour: {
              deps: ["bootstrap"],
              exports: "Tour"
            },
            jqueryui: {
              deps: ["jquery"],
              exports: "$"
            }
          }
      });

      require.config({
          map: {
              '*':{
                'contents': 'services/contents',
              }
          }
      });
    </script>

    
    

</head>

<body class="" >

<noscript>
    <div id='noscript'>
      IPython Notebook requires JavaScript.<br>
      Please enable it to proceed.
  </div>
</noscript>

<div id="header">
  <div id="header-container" class="container">
  <div id="ipython_notebook" class="nav navbar-brand pull-left"><a href="/tree" title='dashboard'><img src='/static/base/images/logo.png?v=7c4597ba713d804995e8f8dad448a397' alt='Jupyter Notebook'/></a></div>

  

  


  

  
  
  </div>
  <div class="header-bar"></div>

  
  
</div>

<div id="site">


<div id="ipython-main-app" class="container">

    
    <div class="row">
    <div class="navbar col-sm-8 col-sm-offset2">
      <div class="navbar-inner">
        <div class="container">
          <div class="center-nav">
            <p class="navbar-text nav">Password:</p>
            <form action="/login?next=%2Fnotebooks%2Froot%2FTheano_tutorial%2FClass5%2520Summary%2520and%2520Tips.ipynb" method="post" class="navbar-form pull-left">
              <input type="password" name="password" id="password_input">
              <button type="submit" id="login_submit">Log in</button>
            </form>
          </div>
        </div>
      </div>
    </div>
    </div>
    
    

<div/>


</div>








<script src="/static/auth/js/loginmain.js?v=519bb64c9c9456efa5eaf7e88cc7775b" type="text/javascript" charset="utf-8"></script>



</body>

</html>