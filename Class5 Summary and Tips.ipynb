{
 "cells": [
  {
   "cell_type": "code",
   "execution_count": 2,
   "metadata": {
    "collapsed": false
   },
   "outputs": [
    {
     "name": "stdout",
     "output_type": "stream",
     "text": [
      "Populating the interactive namespace from numpy and matplotlib\n"
     ]
    },
    {
     "name": "stderr",
     "output_type": "stream",
     "text": [
      "Using gpu device 0: GeForce GTX TITAN X (CNMeM is disabled, cuDNN 5103)\n"
     ]
    }
   ],
   "source": [
    "import theano\n",
    "import theano.tensor as T\n",
    "import numpy as np\n",
    "def floatX(x):\n",
    "    return np.asarray(x, dtype='float32')\n",
    "import matplotlib.pyplot as plt\n",
    "%pylab inline"
   ]
  },
  {
   "cell_type": "markdown",
   "metadata": {},
   "source": [
    "## What we have learned\n",
    "* Concepts\n",
    "    * **TensorVariable**: Symbolic expression, rank is defined, but not the dimensions\n",
    "    * **SharedVariable**: Symbolic variable, contains value on GPU\n",
    "* API's\n",
    "    * **T.grad**: Automatic Differentiation\n",
    "    * **theano.function**: Needed for evaluation\n",
    "    * **givens**: Feeding a value without passing by CPU\n",
    "    * **updates**: Updating a value without passing by CPU\n",
    "    \n",
    "---\n",
    "## Quiz 1: Damped Oscillator\n",
    "Waveform of a damped oscillator is \n",
    "$$ y = e^{-bt} cos(wt)$$ \n",
    "1. Represent this as a symbolic expression. Use `T.exp`, `T.cos` API's.\n",
    "1. You can model each symbol with one of these: TensorVariable, SharedVariable, Constant. Discuss which one is suitable for each symbol.\n",
    "1. Now, model $t$ as a TensorVariable vector (unless you have already), and feed in the data: `t_val=floatX(np.linspace(0,5,100))`. Plot $y$ vs. $t$ using `plt.plot(x,y)` API. For other symbolic variables, give it some value you prefer.\n",
    "1. Change value of `w`, `b` and see how the graph changes."
   ]
  },
  {
   "cell_type": "code",
   "execution_count": 3,
   "metadata": {
    "collapsed": false
   },
   "outputs": [
    {
     "data": {
      "text/plain": [
       "[<matplotlib.lines.Line2D at 0x7f0b38487250>]"
      ]
     },
     "execution_count": 3,
     "metadata": {},
     "output_type": "execute_result"
    },
    {
     "data": {
      "image/png": "[encoded data removed]",
      "text/plain": [
       "<matplotlib.figure.Figure at 0x7f0b3896a390>"
      ]
     },
     "metadata": {},
     "output_type": "display_data"
    }
   ],
   "source": [
    "w = 3\n",
    "b = 0.5\n",
    "t_val = floatX(np.linspace(0,5,100))\n",
    "t = T.vector('t')\n",
    "y = T.exp(-b*t)*T.cos(w*t)\n",
    "compute_y = theano.function([t], y)\n",
    "y_val = compute_y(t_val)\n",
    "plt.plot(t_val, y_val)"
   ]
  },
  {
   "cell_type": "markdown",
   "metadata": {},
   "source": [
    "## Quiz 2: Find the minimum\n",
    "\n",
    "The pseudo-potential of orbiting object around mass $M$ with a unit angular moment $l$ is\n",
    "$$ P(r) = \\frac{l^2}{2r^2}-\\frac{GM}{r}$$\n",
    "\n",
    "Representing this potential as a symbolic expression for values `GM=10`, `r_val=1`:"
   ]
  },
  {
   "cell_type": "code",
   "execution_count": 4,
   "metadata": {
    "collapsed": false
   },
   "outputs": [],
   "source": [
    "r = theano.shared(1.0, name='r')\n",
    "l = T.scalar('l')\n",
    "GM = 10\n",
    "P = l**2/r**2/2 - GM/r\n",
    "compute_P = theano.function([l], P)"
   ]
  },
  {
   "cell_type": "markdown",
   "metadata": {},
   "source": [
    "For `l=1`, compute the P value"
   ]
  },
  {
   "cell_type": "code",
   "execution_count": null,
   "metadata": {
    "collapsed": true
   },
   "outputs": [],
   "source": [
    "compute_P(1)"
   ]
  },
  {
   "cell_type": "markdown",
   "metadata": {},
   "source": [
    "How can we compute the minimum? Use Gradient Descent Algorithm to find it. Try for different l value.\n",
    "$$\\theta^{t+1} = \\theta^t - \\eta \\frac{\\partial P}{\\partial \\theta} \\vert_{\\theta^t}$$"
   ]
  },
  {
   "cell_type": "markdown",
   "metadata": {
    "collapsed": true
   },
   "source": [
    "## Rule of Thumb\n",
    "* If it is a input, use TensorVariable\n",
    "* If it is a modifiable (trainable) value, use SharedVariable\n",
    "* If it is not a modifiable value, use Constant (numpy value)\n",
    "\n",
    "* If the input data is not too big, pre-load the data as a SharedVariable and use `givens`\n",
    "* Always use `updates`"
   ]
  },
  {
   "cell_type": "code",
   "execution_count": null,
   "metadata": {
    "collapsed": true
   },
   "outputs": [],
   "source": []
  }
 ],
 "metadata": {
  "kernelspec": {
   "display_name": "Python 2",
   "language": "python",
   "name": "python2"
  },
  "language_info": {
   "codemirror_mode": {
    "name": "ipython",
    "version": 2
   },
   "file_extension": ".py",
   "mimetype": "text/x-python",
   "name": "python",
   "nbconvert_exporter": "python",
   "pygments_lexer": "ipython2",
   "version": "2.7.6"
  }
 },
 "nbformat": 4,
 "nbformat_minor": 0
}
